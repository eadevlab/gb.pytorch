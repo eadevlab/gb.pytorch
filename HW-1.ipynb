{
 "cells": [
  {
   "cell_type": "markdown",
   "source": [
    "## Фреймворк PyTorch для разработки искусственных нейронных сетей\n",
    "### Урок 1. Основные понятия и структуры PyTorch\n",
    "\n",
    "- Создайте случайный FloatTensor размера 3x4x5\n",
    "- Выведите его форму (shape)\n",
    "- Приведите его к форме 6х10\n",
    "- Создайте случайный IntTensor размера 10\n",
    "- Умножьте созданный FloatTensor на созданный IntTensor поэлементно\n",
    "- Умножьте тензор матрично на себя, чтобы результат был размерности 6x6 Подсказка: .dot может не подойти\n",
    "- Посчитайте производную функции y = x**3 + z - 75t в точке (1, 0.5, 2)\n",
    "- Создайте единичный тензор размера 5x6\n",
    "- Переведите его в формат numpy"
   ],
   "metadata": {
    "collapsed": false
   },
   "id": "e1ea6b20d39ed6dd"
  },
  {
   "cell_type": "code",
   "execution_count": 2,
   "outputs": [],
   "source": [
    "import torch"
   ],
   "metadata": {
    "collapsed": false,
    "ExecuteTime": {
     "end_time": "2023-10-15T19:34:12.034754012Z",
     "start_time": "2023-10-15T19:34:10.095644581Z"
    }
   },
   "id": "592e6c38a38c1932"
  },
  {
   "cell_type": "code",
   "execution_count": 3,
   "outputs": [
    {
     "data": {
      "text/plain": "tensor([[[ 1.5406,  1.7202, -0.8753, -1.2383,  1.1738],\n         [-0.0722, -1.0021,  1.7409,  0.1934,  2.2261],\n         [ 1.3402,  0.1896,  0.3893, -0.0661,  0.1401],\n         [-0.4035,  0.2250, -0.8103,  0.4741,  0.0689]],\n\n        [[ 0.1913, -0.0402,  1.2195,  0.4730, -1.2470],\n         [ 1.1284,  0.7486,  0.9409,  2.3214, -0.2181],\n         [ 0.4582, -0.5771,  0.0584,  0.7614,  1.3829],\n         [ 1.7638,  1.8752,  0.9071,  2.0310,  0.5721]],\n\n        [[-0.1455, -1.4191,  1.4518,  1.4894,  2.0549],\n         [ 1.7967,  0.6307, -0.4676, -0.0558,  1.3342],\n         [-0.1104,  1.0897, -1.8443,  1.2044,  1.3456],\n         [ 0.3415, -0.7647,  0.3111,  2.2357, -0.5298]]])"
     },
     "execution_count": 3,
     "metadata": {},
     "output_type": "execute_result"
    }
   ],
   "source": [
    "# Создайте случайный FloatTensor размера 3x4x5\n",
    "tens = torch.randn(3, 4, 5)\n",
    "tens"
   ],
   "metadata": {
    "collapsed": false,
    "ExecuteTime": {
     "end_time": "2023-10-15T19:34:12.052110775Z",
     "start_time": "2023-10-15T19:34:12.043750163Z"
    }
   },
   "id": "664a7df5eabb1e01"
  },
  {
   "cell_type": "code",
   "execution_count": 4,
   "outputs": [
    {
     "data": {
      "text/plain": "torch.Size([3, 4, 5])"
     },
     "execution_count": 4,
     "metadata": {},
     "output_type": "execute_result"
    }
   ],
   "source": [
    "# Выведите его форму (shape)\n",
    "tens.shape"
   ],
   "metadata": {
    "collapsed": false,
    "ExecuteTime": {
     "end_time": "2023-10-15T19:34:12.092198653Z",
     "start_time": "2023-10-15T19:34:12.055719097Z"
    }
   },
   "id": "50ee8e8404c65e5d"
  },
  {
   "cell_type": "code",
   "execution_count": 5,
   "outputs": [
    {
     "data": {
      "text/plain": "tensor([[ 1.5406,  1.7202, -0.8753, -1.2383,  1.1738, -0.0722, -1.0021,  1.7409,\n          0.1934,  2.2261],\n        [ 1.3402,  0.1896,  0.3893, -0.0661,  0.1401, -0.4035,  0.2250, -0.8103,\n          0.4741,  0.0689],\n        [ 0.1913, -0.0402,  1.2195,  0.4730, -1.2470,  1.1284,  0.7486,  0.9409,\n          2.3214, -0.2181],\n        [ 0.4582, -0.5771,  0.0584,  0.7614,  1.3829,  1.7638,  1.8752,  0.9071,\n          2.0310,  0.5721],\n        [-0.1455, -1.4191,  1.4518,  1.4894,  2.0549,  1.7967,  0.6307, -0.4676,\n         -0.0558,  1.3342],\n        [-0.1104,  1.0897, -1.8443,  1.2044,  1.3456,  0.3415, -0.7647,  0.3111,\n          2.2357, -0.5298]])"
     },
     "execution_count": 5,
     "metadata": {},
     "output_type": "execute_result"
    }
   ],
   "source": [
    "# Приведите его к форме 6х10\n",
    "tens2 = tens.view(6, 10)\n",
    "tens2"
   ],
   "metadata": {
    "collapsed": false,
    "ExecuteTime": {
     "end_time": "2023-10-15T19:34:12.102017792Z",
     "start_time": "2023-10-15T19:34:12.083668261Z"
    }
   },
   "id": "43e683785b419be0"
  },
  {
   "cell_type": "code",
   "execution_count": 6,
   "outputs": [
    {
     "data": {
      "text/plain": "tensor([-1368057968,       32732,   133589696,           0,       65280,\n                  0,           8,           0,         256,           0],\n       dtype=torch.int32)"
     },
     "execution_count": 6,
     "metadata": {},
     "output_type": "execute_result"
    }
   ],
   "source": [
    "# Создайте случайный IntTensor размера 10\n",
    "int_tens = torch.IntTensor(10)\n",
    "int_tens"
   ],
   "metadata": {
    "collapsed": false,
    "ExecuteTime": {
     "end_time": "2023-10-15T19:34:12.181771718Z",
     "start_time": "2023-10-15T19:34:12.091565420Z"
    }
   },
   "id": "cee7c87bd6f42c7c"
  },
  {
   "cell_type": "code",
   "execution_count": 7,
   "outputs": [
    {
     "data": {
      "text/plain": "tensor([[-2.1076e+09,  5.6306e+04, -1.1693e+08, -0.0000e+00,  7.6628e+04,\n         -0.0000e+00, -8.0171e+00,  0.0000e+00,  4.9515e+01,  0.0000e+00],\n        [-1.8334e+09,  6.2047e+03,  5.2010e+07, -0.0000e+00,  9.1447e+03,\n         -0.0000e+00,  1.8003e+00, -0.0000e+00,  1.2136e+02,  0.0000e+00],\n        [-2.6172e+08, -1.3165e+03,  1.6291e+08,  0.0000e+00, -8.1405e+04,\n          0.0000e+00,  5.9891e+00,  0.0000e+00,  5.9427e+02, -0.0000e+00],\n        [-6.2678e+08, -1.8890e+04,  7.8019e+06,  0.0000e+00,  9.0278e+04,\n          0.0000e+00,  1.5001e+01,  0.0000e+00,  5.1994e+02,  0.0000e+00],\n        [ 1.9899e+08, -4.6451e+04,  1.9395e+08,  0.0000e+00,  1.3414e+05,\n          0.0000e+00,  5.0453e+00, -0.0000e+00, -1.4279e+01,  0.0000e+00],\n        [ 1.5101e+08,  3.5667e+04, -2.4639e+08,  0.0000e+00,  8.7842e+04,\n          0.0000e+00, -6.1174e+00,  0.0000e+00,  5.7235e+02, -0.0000e+00]])"
     },
     "execution_count": 7,
     "metadata": {},
     "output_type": "execute_result"
    }
   ],
   "source": [
    "# Умножьте созданный FloatTensor на созданный IntTensor поэлементно\n",
    "tens2 * int_tens"
   ],
   "metadata": {
    "collapsed": false,
    "ExecuteTime": {
     "end_time": "2023-10-15T19:34:12.182700931Z",
     "start_time": "2023-10-15T19:34:12.133211973Z"
    }
   },
   "id": "f092ea99037af0d7"
  },
  {
   "cell_type": "code",
   "execution_count": 8,
   "outputs": [
    {
     "data": {
      "text/plain": "tensor([[18.0431,  0.9342, -2.1215,  1.5814, -1.9849,  3.9431],\n        [ 0.9342,  3.1071,  0.5538,  0.6483,  0.1521, -0.0891],\n        [-2.1215,  0.5538, 11.4595,  7.6552,  1.5808,  1.9887],\n        [ 1.5814,  0.6483,  7.6552, 14.9408,  9.3903,  5.6791],\n        [-1.9849,  0.1521,  1.5808,  9.3903, 16.2113, -0.4948],\n        [ 3.9431, -0.0891,  1.9887,  5.6791, -0.4948, 13.9399]])"
     },
     "execution_count": 8,
     "metadata": {},
     "output_type": "execute_result"
    }
   ],
   "source": [
    "# Умножьте тензор матрично на себя, чтобы результат был размерности 6x6 Подсказка: .dot может не подойти\n",
    "tens2 @ tens2.T"
   ],
   "metadata": {
    "collapsed": false,
    "ExecuteTime": {
     "end_time": "2023-10-15T19:34:12.183295613Z",
     "start_time": "2023-10-15T19:34:12.133633943Z"
    }
   },
   "id": "52bf7813930f286a"
  },
  {
   "cell_type": "code",
   "execution_count": 9,
   "outputs": [
    {
     "data": {
      "text/plain": "tensor([  3., -74.,   0.])"
     },
     "execution_count": 9,
     "metadata": {},
     "output_type": "execute_result"
    }
   ],
   "source": [
    "# Посчитайте производную функции y = x**3 + z - 75t в точке (1, 0.5, 2)\n",
    "f = torch.Tensor([1, 0.5, 2])\n",
    "f.requires_grad = True\n",
    "y = f[0]**3 + f[1] - 75 * f[1]\n",
    "y.backward()\n",
    "f.grad"
   ],
   "metadata": {
    "collapsed": false,
    "ExecuteTime": {
     "end_time": "2023-10-15T19:34:12.185719948Z",
     "start_time": "2023-10-15T19:34:12.134076166Z"
    }
   },
   "id": "d5817d57596b14d9"
  },
  {
   "cell_type": "code",
   "execution_count": 10,
   "outputs": [
    {
     "data": {
      "text/plain": "tensor([[1., 1., 1., 1., 1., 1.],\n        [1., 1., 1., 1., 1., 1.],\n        [1., 1., 1., 1., 1., 1.],\n        [1., 1., 1., 1., 1., 1.],\n        [1., 1., 1., 1., 1., 1.]])"
     },
     "execution_count": 10,
     "metadata": {},
     "output_type": "execute_result"
    }
   ],
   "source": [
    "# Создайте единичный тензор размера 5x6\n",
    "ones_tens = torch.ones(5, 6)\n",
    "ones_tens"
   ],
   "metadata": {
    "collapsed": false,
    "ExecuteTime": {
     "end_time": "2023-10-15T19:34:12.186257292Z",
     "start_time": "2023-10-15T19:34:12.177009230Z"
    }
   },
   "id": "6414105bb8d49572"
  },
  {
   "cell_type": "code",
   "execution_count": 11,
   "outputs": [
    {
     "data": {
      "text/plain": "array([[1., 1., 1., 1., 1., 1.],\n       [1., 1., 1., 1., 1., 1.],\n       [1., 1., 1., 1., 1., 1.],\n       [1., 1., 1., 1., 1., 1.],\n       [1., 1., 1., 1., 1., 1.]], dtype=float32)"
     },
     "execution_count": 11,
     "metadata": {},
     "output_type": "execute_result"
    }
   ],
   "source": [
    "# Переведите его в формат numpy\n",
    "ones_tens.numpy()"
   ],
   "metadata": {
    "collapsed": false,
    "ExecuteTime": {
     "end_time": "2023-10-15T19:34:12.198966454Z",
     "start_time": "2023-10-15T19:34:12.177312124Z"
    }
   },
   "id": "ace97e515e79e3dd"
  }
 ],
 "metadata": {
  "kernelspec": {
   "display_name": "Python 3",
   "language": "python",
   "name": "python3"
  },
  "language_info": {
   "codemirror_mode": {
    "name": "ipython",
    "version": 2
   },
   "file_extension": ".py",
   "mimetype": "text/x-python",
   "name": "python",
   "nbconvert_exporter": "python",
   "pygments_lexer": "ipython2",
   "version": "2.7.6"
  }
 },
 "nbformat": 4,
 "nbformat_minor": 5
}
